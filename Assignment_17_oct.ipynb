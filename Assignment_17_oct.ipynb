{
 "cells": [
  {
   "cell_type": "raw",
   "id": "bfccd002",
   "metadata": {},
   "source": [
    "Q.1. On amazon website we have the following available items -\n",
    "amazon_website = [(\"watch\", 5000), (\"phone\", 10000), (\"laptop\", 50000), (\"shirt\", 1000)]\n",
    "Take the user input N no. of times and find out the total cost to be paid?\n",
    "\n",
    "OR\n",
    "\n",
    "You can ask the user quntity or the count of item?\n",
    "\n",
    "if the item is not present in the amazon website then print that item is out of stock and do not add it in total\n",
    "\n",
    "HINT: while, for loop.. indexing"
   ]
  },
  {
   "cell_type": "code",
   "execution_count": 7,
   "id": "64136cef",
   "metadata": {},
   "outputs": [
    {
     "name": "stdout",
     "output_type": "stream",
     "text": [
      "Enter the item you want to purchase: phone\n",
      "Item is available\n",
      "Enter the quantity of phone : 25\n",
      "Total Amount to be paid is Rs. 250000 \n"
     ]
    }
   ],
   "source": [
    "amazon_website = [(\"watch\", 5000), (\"phone\", 10000), (\"laptop\", 50000), (\"shirt\", 1000)]\n",
    "\n",
    "user_input = input(\"Enter the item you want to purchase: \")\n",
    "Total = 0\n",
    "\n",
    "for i in amazon_website:\n",
    "    if i[0] == user_input:\n",
    "        print(\"Item is available\")\n",
    "        order_qty = int(input(f\"Enter the quantity of {user_input} : \"))\n",
    "        total_amount = i[1] * order_qty\n",
    "        Total = Total + total_amount\n",
    "        break\n",
    "else:\n",
    "    print(\"Out of stock\")\n",
    "              \n",
    "print(f\"Total Amount to be paid is Rs. {Total} \")\n",
    "                "
   ]
  },
  {
   "cell_type": "markdown",
   "id": "a1960389",
   "metadata": {},
   "source": [
    "__________"
   ]
  },
  {
   "cell_type": "raw",
   "id": "147b151e",
   "metadata": {},
   "source": [
    "Q.2. What will be the output of the following code snippet?\n",
    "arr = [1, 2, 3, 4, 5, 6]\n",
    "for i in range(1, 6):\n",
    "    arr[i - 1] = arr[i]\n",
    "for i in range(0, 6): \n",
    "    print(arr[i], end = \" \")"
   ]
  },
  {
   "cell_type": "code",
   "execution_count": 25,
   "id": "3dc649cb",
   "metadata": {},
   "outputs": [
    {
     "name": "stdout",
     "output_type": "stream",
     "text": [
      "2 3 4 5 6 6 "
     ]
    }
   ],
   "source": [
    "arr = [1, 2, 3, 4, 5, 6]\n",
    "\n",
    "# range starts from 1 to 5\n",
    "for i in range(1, 6):\n",
    "    # arr[0] = arr[1] and so on, so output list will be 2 3 4 5 6 6\n",
    "    arr[i - 1] = arr[i]\n",
    "\n",
    "    \n",
    "# range starts from 0 to 5    \n",
    "for i in range(0, 6):\n",
    "    # now the arr[0] starts from 2 and go till 6 & end with arr[5] = 6\n",
    "    print(arr[i], end = \" \") \n",
    "    "
   ]
  },
  {
   "cell_type": "markdown",
   "id": "ea630704",
   "metadata": {},
   "source": [
    "_______________"
   ]
  },
  {
   "cell_type": "raw",
   "id": "e176fdd0",
   "metadata": {},
   "source": [
    "Q.3. Write a Python program to find the repeated items of a tuple."
   ]
  },
  {
   "cell_type": "code",
   "execution_count": 32,
   "id": "8bb3512c",
   "metadata": {},
   "outputs": [
    {
     "name": "stdout",
     "output_type": "stream",
     "text": [
      "repeated items in tuples are : ['phone', 'shirt', 2]\n"
     ]
    }
   ],
   "source": [
    "Tuple1 = (\"phone\", \"shirt\", 2, \"laptop\", 2, \"watch\", \"phone\", 2, \"shirt\")\n",
    "\n",
    "repeated_items = []\n",
    "\n",
    "for i in Tuple1:\n",
    "    if Tuple1.count(i) > 1 and i not in repeated_items:\n",
    "        repeated_items.append(i)\n",
    "\n",
    "print(f\"repeated items in tuples are : {repeated_items}\")\n",
    "        \n",
    "        "
   ]
  },
  {
   "cell_type": "markdown",
   "id": "9135dd41",
   "metadata": {},
   "source": [
    "_____________"
   ]
  },
  {
   "cell_type": "raw",
   "id": "a49a3d0e",
   "metadata": {},
   "source": [
    "Q. 4. Replace last value of tuples in a list with 500. Try using list comprehension\n",
    "Example -:\n",
    "\n",
    "Input -:\n",
    "\n",
    "[(10, 20, 40), (40, 50, 60), (70, 80, 90)]\n",
    "\n",
    "Output -:\n",
    "[(10, 20, 500), (40, 50, 500), (70, 80, 500)]"
   ]
  },
  {
   "cell_type": "code",
   "execution_count": 8,
   "id": "b48e26a3",
   "metadata": {},
   "outputs": [
    {
     "name": "stdout",
     "output_type": "stream",
     "text": [
      "[(10, 20, 500), (40, 50, 500), (70, 80, 500)]\n"
     ]
    }
   ],
   "source": [
    "tup = [(10, 20, 40), (40, 50, 60), (70, 80, 90)]\n",
    "\n",
    "# List comprehension method\n",
    "tup = [(i[0:2] + (500,)) for i in tup]\n",
    "\n",
    "print(tup)"
   ]
  },
  {
   "cell_type": "code",
   "execution_count": 9,
   "id": "35a31f35",
   "metadata": {},
   "outputs": [
    {
     "name": "stdout",
     "output_type": "stream",
     "text": [
      "Convert into list : [[10, 20, 40], [40, 50, 60], [70, 80, 90]]\n",
      "Output : [(10, 20, 500), (40, 50, 500), (70, 80, 500)]\n"
     ]
    }
   ],
   "source": [
    "# Normal Method\n",
    "\n",
    "tup = [(10, 20, 40), (40, 50, 60), (70, 80, 90)]\n",
    "\n",
    "tup = [list(tup[0])] + [list(tup[1])] + [list(tup[2])]\n",
    "print(f\"Convert into list : {tup}\")\n",
    "\n",
    "for i in tup:\n",
    "    i[2] = 500\n",
    "    \n",
    "tup = [tuple(tup[0]), tuple(tup[1]), tuple(tup[2])]\n",
    "print(f\"Output : {tup}\")"
   ]
  },
  {
   "cell_type": "markdown",
   "id": "b99ba95e",
   "metadata": {},
   "source": [
    "_____________"
   ]
  }
 ],
 "metadata": {
  "kernelspec": {
   "display_name": "Python 3 (ipykernel)",
   "language": "python",
   "name": "python3"
  },
  "language_info": {
   "codemirror_mode": {
    "name": "ipython",
    "version": 3
   },
   "file_extension": ".py",
   "mimetype": "text/x-python",
   "name": "python",
   "nbconvert_exporter": "python",
   "pygments_lexer": "ipython3",
   "version": "3.9.12"
  }
 },
 "nbformat": 4,
 "nbformat_minor": 5
}
